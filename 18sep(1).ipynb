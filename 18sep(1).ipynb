{
  "cells": [
    {
      "cell_type": "markdown",
      "metadata": {
        "id": "view-in-github",
        "colab_type": "text"
      },
      "source": [
        "<a href=\"https://colab.research.google.com/github/NishaAnjalin/CSH4123-P/blob/main/18sep(1).ipynb\" target=\"_parent\"><img src=\"https://colab.research.google.com/assets/colab-badge.svg\" alt=\"Open In Colab\"/></a>"
      ]
    },
    {
      "cell_type": "code",
      "source": [
        "#9)Create 1D array and insert values from 0 to 20 within 3 gap spacve and find the values which are divided by 2.\n",
        "    #and replace 0 in array which are not satisfied the condition\n",
        "\n",
        "  #9)Create 1D array and insert values from 0 to 20 within 3 gap spacve and find the values which are divided by 2.\n",
        "    #and replace 0 in array which are not satisfied the condition\n",
        "\n",
        "import numpy as np\n",
        "\n",
        "# Create a 1D array with values from 0 to 20 with a gap of 3\n",
        "arr = np.arange(0, 21, 3)\n",
        "\n",
        "# Find the values which are divided by 2\n",
        "divisible_by_3 = arr % 3 == 0\n",
        "\n",
        "# Replace values not divisible by 2 with 0\n",
        "arr[~divisible_by_3] = 0\n",
        "\n",
        "print(arr)"
      ],
      "metadata": {
        "colab": {
          "base_uri": "https://localhost:8080/"
        },
        "id": "jH6kKFPlzBij",
        "outputId": "4eb7b4ae-0cf6-4bcc-9e81-a2b32836654e"
      },
      "execution_count": 4,
      "outputs": [
        {
          "output_type": "stream",
          "name": "stdout",
          "text": [
            "[ 0  3  6  9 12 15 18]\n"
          ]
        }
      ]
    },
    {
      "cell_type": "code",
      "source": [
        "#10)Create 1D array as data=[1,2,3,4,5,6] and reshaping it as a 2*3 matrix 3*2 matrix\n",
        "\n",
        "import numpy as np\n",
        "\n",
        "# Create the 1D array\n",
        "data = np.array([1, 2, 3, 4, 5, 6])\n",
        "\n",
        "# Reshape as a 2*3 matrix\n",
        "matrix_2x3 = data.reshape(2, 3)\n",
        "print(\"2x3 matrix:\")\n",
        "print(matrix_2x3)\n",
        "\n",
        "# Reshape as a 3*2 matrix\n",
        "matrix_3x2 = data.reshape(3, 2)\n",
        "print(\"\\n3x2 matrix:\")\n",
        "print(matrix_3x2)"
      ],
      "metadata": {
        "colab": {
          "base_uri": "https://localhost:8080/"
        },
        "id": "_hQClasm0HEG",
        "outputId": "a1e9873f-95d3-4813-a4aa-231a94dab111"
      },
      "execution_count": 5,
      "outputs": [
        {
          "output_type": "stream",
          "name": "stdout",
          "text": [
            "2x3 matrix:\n",
            "[[1 2 3]\n",
            " [4 5 6]]\n",
            "\n",
            "3x2 matrix:\n",
            "[[1 2]\n",
            " [3 4]\n",
            " [5 6]]\n"
          ]
        }
      ]
    },
    {
      "cell_type": "code",
      "source": [
        "#11)Create 1D and 2D array concatinate those arrays vertically and horizontally. and delete the element using delete function\n",
        "\n",
        "import numpy as np\n",
        "\n",
        "# Create a 1D array\n",
        "array_1d = np.array([1, 2, 3, 4, 5])\n",
        "print(\"1D Array:\")\n",
        "print(array_1d)\n",
        "\n",
        "# Create a 2D array\n",
        "array_2d = np.array([[6, 7, 8], [9, 10, 11]])\n",
        "print(\"\\n2D Array:\")\n",
        "print(array_2d)"
      ],
      "metadata": {
        "colab": {
          "base_uri": "https://localhost:8080/"
        },
        "id": "Ldjx_caz0Hws",
        "outputId": "4581bb2c-066f-43ae-e3f0-6392a0fef67b"
      },
      "execution_count": 6,
      "outputs": [
        {
          "output_type": "stream",
          "name": "stdout",
          "text": [
            "1D Array:\n",
            "[1 2 3 4 5]\n",
            "\n",
            "2D Array:\n",
            "[[ 6  7  8]\n",
            " [ 9 10 11]]\n"
          ]
        }
      ]
    },
    {
      "cell_type": "code",
      "source": [],
      "metadata": {
        "id": "GqXNFQSu0d5H"
      },
      "execution_count": null,
      "outputs": []
    }
  ],
  "metadata": {
    "colab": {
      "name": "Welcome To Colab",
      "provenance": [],
      "include_colab_link": true
    },
    "kernelspec": {
      "display_name": "Python 3",
      "name": "python3"
    }
  },
  "nbformat": 4,
  "nbformat_minor": 0
}