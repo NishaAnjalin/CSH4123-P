{
 "cells": [
  {
   "cell_type": "code",
   "execution_count": 2,
   "id": "e1d9b154",
   "metadata": {},
   "outputs": [
    {
     "name": "stdout",
     "output_type": "stream",
     "text": [
      "Enter the number of rows: 7\n",
      "      *\n",
      "     ***\n",
      "    *****\n",
      "   *******\n",
      "  *********\n",
      " ***********\n",
      "*************\n"
     ]
    }
   ],
   "source": [
    "#Print Pattern of Starts\n",
    "rows = int(input(\"Enter the number of rows: \"))\n",
    "\n",
    "for i in range(1, rows + 1):\n",
    "    print(\" \" * (rows - i) + \"*\" * (2*i - 1))\n",
    "\n",
    "\n"
   ]
  },
  {
   "cell_type": "code",
   "execution_count": 24,
   "id": "7fa57558",
   "metadata": {},
   "outputs": [
    {
     "name": "stdout",
     "output_type": "stream",
     "text": [
      "1 * 1 = 1\n",
      "1 * 2 = 2\n",
      "1 * 3 = 3\n",
      "1 * 4 = 4\n",
      "1 * 5 = 5\n",
      "1 * 6 = 6\n",
      "1 * 7 = 7\n",
      "1 * 8 = 8\n",
      "1 * 9 = 9\n",
      "1 * 10 = 10\n",
      "2 * 1 = 2\n",
      "2 * 2 = 4\n",
      "2 * 3 = 6\n",
      "2 * 4 = 8\n",
      "2 * 5 = 10\n",
      "2 * 6 = 12\n",
      "2 * 7 = 14\n",
      "2 * 8 = 16\n",
      "2 * 9 = 18\n",
      "2 * 10 = 20\n",
      "3 * 1 = 3\n",
      "3 * 2 = 6\n",
      "3 * 3 = 9\n",
      "3 * 4 = 12\n",
      "3 * 5 = 15\n",
      "3 * 6 = 18\n",
      "3 * 7 = 21\n",
      "3 * 8 = 24\n",
      "3 * 9 = 27\n",
      "3 * 10 = 30\n",
      "4 * 1 = 4\n",
      "4 * 2 = 8\n",
      "4 * 3 = 12\n",
      "4 * 4 = 16\n",
      "4 * 5 = 20\n",
      "4 * 6 = 24\n",
      "4 * 7 = 28\n",
      "4 * 8 = 32\n",
      "4 * 9 = 36\n",
      "4 * 10 = 40\n",
      "5 * 1 = 5\n",
      "5 * 2 = 10\n",
      "5 * 3 = 15\n",
      "5 * 4 = 20\n",
      "5 * 5 = 25\n",
      "5 * 6 = 30\n",
      "5 * 7 = 35\n",
      "5 * 8 = 40\n",
      "5 * 9 = 45\n",
      "5 * 10 = 50\n",
      "6 * 1 = 6\n",
      "6 * 2 = 12\n",
      "6 * 3 = 18\n",
      "6 * 4 = 24\n",
      "6 * 5 = 30\n",
      "6 * 6 = 36\n",
      "6 * 7 = 42\n",
      "6 * 8 = 48\n",
      "6 * 9 = 54\n",
      "6 * 10 = 60\n",
      "7 * 1 = 7\n",
      "7 * 2 = 14\n",
      "7 * 3 = 21\n",
      "7 * 4 = 28\n",
      "7 * 5 = 35\n",
      "7 * 6 = 42\n",
      "7 * 7 = 49\n",
      "7 * 8 = 56\n",
      "7 * 9 = 63\n",
      "7 * 10 = 70\n",
      "8 * 1 = 8\n",
      "8 * 2 = 16\n",
      "8 * 3 = 24\n",
      "8 * 4 = 32\n",
      "8 * 5 = 40\n",
      "8 * 6 = 48\n",
      "8 * 7 = 56\n",
      "8 * 8 = 64\n",
      "8 * 9 = 72\n",
      "8 * 10 = 80\n",
      "9 * 1 = 9\n",
      "9 * 2 = 18\n",
      "9 * 3 = 27\n",
      "9 * 4 = 36\n",
      "9 * 5 = 45\n",
      "9 * 6 = 54\n",
      "9 * 7 = 63\n",
      "9 * 8 = 72\n",
      "9 * 9 = 81\n",
      "9 * 10 = 90\n",
      "10 * 1 = 10\n",
      "10 * 2 = 20\n",
      "10 * 3 = 30\n",
      "10 * 4 = 40\n",
      "10 * 5 = 50\n",
      "10 * 6 = 60\n",
      "10 * 7 = 70\n",
      "10 * 8 = 80\n",
      "10 * 9 = 90\n",
      "10 * 10 = 100\n"
     ]
    }
   ],
   "source": [
    "#print a multiplication table \n",
    "\n",
    "def mul(num1, num2):\n",
    "    mul=num1*num2\n",
    "    return mul\n",
    "\n",
    "for x in range(1,11):\n",
    "    for y in range(1,11):\n",
    "        print(x,'*',y,'=',x*y)\n",
    " "
   ]
  },
  {
   "cell_type": "code",
   "execution_count": 11,
   "id": "adaaac96",
   "metadata": {},
   "outputs": [
    {
     "name": "stdout",
     "output_type": "stream",
     "text": [
      "Enter the number to generate its multiplication table: 10\n",
      "Enter the limit for the table: 10\n",
      "\n",
      "Multiplication Table for 10 up to 10:\n",
      "\n",
      "10 x 1 = 10\n",
      "10 x 2 = 20\n",
      "10 x 3 = 30\n",
      "10 x 4 = 40\n",
      "10 x 5 = 50\n",
      "10 x 6 = 60\n",
      "10 x 7 = 70\n",
      "10 x 8 = 80\n",
      "10 x 9 = 90\n",
      "10 x 10 = 100\n"
     ]
    }
   ],
   "source": [
    "# Print Multiplication Table\n",
    "num = int(input(\"Enter the number to generate its multiplication table: \"))\n",
    "limit = int(input(\"Enter the limit for the table: \"))\n",
    "\n",
    "print(f\"\\nMultiplication Table for {num} up to {limit}:\\n\")\n",
    "for i in range(1, limit + 1):\n",
    "    print(f\"{num} x {i} = {num * i}\")\n"
   ]
  },
  {
   "cell_type": "code",
   "execution_count": 15,
   "id": "9759742f",
   "metadata": {},
   "outputs": [
    {
     "name": "stdout",
     "output_type": "stream",
     "text": [
      "Nucleotide counts: ATGCGATACGTTTGA\n",
      "A: 4\n",
      "T: 5\n",
      "G: 4\n",
      "C: 2\n"
     ]
    }
   ],
   "source": [
    "#Count the number of A, T, G, C nucleotides in this DNA = \"ATGCGATACGTTTGA\" sequence\n",
    "# Count nucleotides in a DNA sequence\n",
    "DNA = \"ATGCGATACGTTTGA\"\n",
    "\n",
    "# Initialize counters\n",
    "count_A = DNA.count('A')\n",
    "count_T = DNA.count('T')\n",
    "count_G = DNA.count('G')\n",
    "count_C = DNA.count('C')\n",
    "\n",
    "# Display results\n",
    "print(\"Nucleotide counts:\", DNA)\n",
    "print(f\"A: {count_A}\")\n",
    "print(f\"T: {count_T}\")\n",
    "print(f\"G: {count_G}\")\n",
    "print(f\"C: {count_C}\")\n"
   ]
  },
  {
   "cell_type": "code",
   "execution_count": 20,
   "id": "1922cdac",
   "metadata": {},
   "outputs": [
    {
     "name": "stdout",
     "output_type": "stream",
     "text": [
      "       1   2   3   4   5   6   7   8   9  10\n",
      " 1 |   1   2   3   4   5   6   7   8   9  10\n",
      " 2 |   2   4   6   8  10  12  14  16  18  20\n",
      " 3 |   3   6   9  12  15  18  21  24  27  30\n",
      " 4 |   4   8  12  16  20  24  28  32  36  40\n",
      " 5 |   5  10  15  20  25  30  35  40  45  50\n",
      " 6 |   6  12  18  24  30  36  42  48  54  60\n",
      " 7 |   7  14  21  28  35  42  49  56  63  70\n",
      " 8 |   8  16  24  32  40  48  56  64  72  80\n",
      " 9 |   9  18  27  36  45  54  63  72  81  90\n",
      "10 |  10  20  30  40  50  60  70  80  90 100\n"
     ]
    }
   ],
   "source": [
    "# Function to multiply two numbers\n",
    "def mul(num1, num2):\n",
    "    return num1 * num2\n",
    "\n",
    "# Print header row\n",
    "print(\"    \", end=\"\")\n",
    "for i in range(1, 11):\n",
    "    print(f\"{i:4}\", end=\"\")\n",
    "print()\n",
    "\n",
    "# Print table rows\n",
    "for x in range(1, 11):\n",
    "    print(f\"{x:2} |\", end=\"\")  # Row label\n",
    "    for y in range(1, 11):\n",
    "        print(f\"{mul(x, y):4}\", end=\"\")\n",
    "    print()\n"
   ]
  },
  {
   "cell_type": "code",
   "execution_count": 25,
   "id": "d412fd4e",
   "metadata": {},
   "outputs": [
    {
     "name": "stdout",
     "output_type": "stream",
     "text": [
      "       1   2   3   4   5   6   7   8   9  10\n",
      " 1 |   1   2   3   4   5   6   7   8   9  10\n",
      " 2 |   2   4   6   8  10  12  14  16  18  20\n",
      " 3 |   3   6   9  12  15  18  21  24  27  30\n",
      " 4 |   4   8  12  16  20  24  28  32  36  40\n",
      " 5 |   5  10  15  20  25  30  35  40  45  50\n",
      " 6 |   6  12  18  24  30  36  42  48  54  60\n",
      " 7 |   7  14  21  28  35  42  49  56  63  70\n",
      " 8 |   8  16  24  32  40  48  56  64  72  80\n",
      " 9 |   9  18  27  36  45  54  63  72  81  90\n",
      "10 |  10  20  30  40  50  60  70  80  90 100\n"
     ]
    }
   ],
   "source": [
    "# Print header row\n",
    "print(\"    \", end=\"\")\n",
    "for i in range(1, 11):\n",
    "    print(f\"{i:4}\", end=\"\")\n",
    "print()\n",
    "\n",
    "# Print table rows\n",
    "for x in range(1, 11):\n",
    "    print(f\"{x:2} |\", end=\"\")\n",
    "    for y in range(1, 11):\n",
    "        print(f\"{x * y:4}\", end=\"\")\n",
    "    print()\n"
   ]
  },
  {
   "cell_type": "code",
   "execution_count": 26,
   "id": "9e973ee0",
   "metadata": {},
   "outputs": [
    {
     "name": "stdout",
     "output_type": "stream",
     "text": [
      "   1   2   3   4   5   6   7   8   9  10\n",
      "   2   4   6   8  10  12  14  16  18  20\n",
      "   3   6   9  12  15  18  21  24  27  30\n",
      "   4   8  12  16  20  24  28  32  36  40\n",
      "   5  10  15  20  25  30  35  40  45  50\n",
      "   6  12  18  24  30  36  42  48  54  60\n",
      "   7  14  21  28  35  42  49  56  63  70\n",
      "   8  16  24  32  40  48  56  64  72  80\n",
      "   9  18  27  36  45  54  63  72  81  90\n",
      "  10  20  30  40  50  60  70  80  90 100\n"
     ]
    }
   ],
   "source": [
    "for x in range(1, 11):\n",
    "    for y in range(1, 11):\n",
    "        print(f\"{x*y:4}\", end=\"\")\n",
    "    print()\n"
   ]
  },
  {
   "cell_type": "code",
   "execution_count": null,
   "id": "8232a39b",
   "metadata": {},
   "outputs": [],
   "source": []
  }
 ],
 "metadata": {
  "kernelspec": {
   "display_name": "Python 3 (ipykernel)",
   "language": "python",
   "name": "python3"
  },
  "language_info": {
   "codemirror_mode": {
    "name": "ipython",
    "version": 3
   },
   "file_extension": ".py",
   "mimetype": "text/x-python",
   "name": "python",
   "nbconvert_exporter": "python",
   "pygments_lexer": "ipython3",
   "version": "3.9.13"
  }
 },
 "nbformat": 4,
 "nbformat_minor": 5
}
