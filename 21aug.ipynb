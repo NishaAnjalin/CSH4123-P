{
 "cells": [
  {
   "cell_type": "code",
   "execution_count": 9,
   "id": "477b9207",
   "metadata": {},
   "outputs": [
    {
     "name": "stdout",
     "output_type": "stream",
     "text": [
      "number1: 40\n",
      "number2: 30\n",
      "The result is 70\n"
     ]
    }
   ],
   "source": [
    "#get the two numbers in user input if the number multiplication is less than 1000 display the multiplication result \n",
    "#else display the addition of that two numbers\n",
    "def mul(num1, num2):\n",
    "    multiplication = num1*num2\n",
    "    return multiplication\n",
    "\n",
    "def add(num1, num2):\n",
    "    addition=num1+num2\n",
    "    return addition\n",
    "\n",
    "x=int(input('number1: '))\n",
    "y=int(input('number2: '))\n",
    "\n",
    "z=mul(x,y)\n",
    "a=add(x,y)\n",
    "\n",
    "if z<1000:\n",
    "    print('The result is',z)\n",
    "else:\n",
    "    print('The result is',a)"
   ]
  },
  {
   "cell_type": "code",
   "execution_count": 40,
   "id": "8f2c2e03",
   "metadata": {},
   "outputs": [
    {
     "name": "stdout",
     "output_type": "stream",
     "text": [
      "Input: 8\n",
      "The input is even\n"
     ]
    }
   ],
   "source": [
    "#get the number in userinput check it is even or odd\n",
    "x=int(input('Input: '))\n",
    "\n",
    "if x%2==0:\n",
    "    print('The input is even')\n",
    "else:\n",
    "    print('The input is odd')"
   ]
  },
  {
   "cell_type": "code",
   "execution_count": 29,
   "id": "31bd0101",
   "metadata": {},
   "outputs": [
    {
     "name": "stdout",
     "output_type": "stream",
     "text": [
      "Average is : 3.0\n"
     ]
    }
   ],
   "source": [
    "#find the average of a  list of numbers\n",
    "lists=[1,2,3,4,5]\n",
    "y=len(lists)\n",
    "#print(y)\n",
    "\n",
    "sum=0\n",
    "\n",
    "for x in lists:\n",
    "    sum += x\n",
    "    \n",
    "\n",
    "\n",
    "#print(sum)\n",
    "a=sum/y\n",
    "print ('Average is :',a)\n",
    "    \n",
    "    "
   ]
  },
  {
   "cell_type": "code",
   "execution_count": 39,
   "id": "287b102a",
   "metadata": {},
   "outputs": [
    {
     "name": "stdout",
     "output_type": "stream",
     "text": [
      "a\n",
      "e\n",
      "i\n",
      "o\n",
      "u\n",
      "Count is:  5\n"
     ]
    }
   ],
   "source": [
    "#Count the vowels in Strings\n",
    "x='aeiou'\n",
    "c=0\n",
    "for i in x:\n",
    "    print(i)\n",
    "    \n",
    "    if i=='a':\n",
    "        c+=1\n",
    "    elif i=='e':\n",
    "          c+=1\n",
    "    elif i=='i':\n",
    "        c+=1\n",
    "    elif i=='o':\n",
    "        c+=1\n",
    "    elif i=='u':\n",
    "        c+=1\n",
    "print ('Count is: ',c)\n",
    "        "
   ]
  },
  {
   "cell_type": "code",
   "execution_count": 52,
   "id": "33784846",
   "metadata": {},
   "outputs": [
    {
     "name": "stdout",
     "output_type": "stream",
     "text": [
      "Enter the number: 10\n",
      "Fibonacci Series\n",
      "0\n",
      "1\n",
      "1\n",
      "2\n",
      "3\n",
      "5\n",
      "8\n",
      "13\n",
      "21\n",
      "34\n"
     ]
    }
   ],
   "source": [
    "#Fibonacci Series\n",
    "n=int(input('Enter the number: '))\n",
    "print('Fibonacci Series')\n",
    "x=0\n",
    "y=1\n",
    "print(x)\n",
    "print(y)\n",
    "\n",
    "\n",
    "for m in range(0,n-2):\n",
    "    sum=x+y\n",
    "    x=y\n",
    "    y=sum\n",
    "    print(sum)\n"
   ]
  },
  {
   "cell_type": "code",
   "execution_count": 72,
   "id": "e2f0d53e",
   "metadata": {},
   "outputs": [
    {
     "name": "stdout",
     "output_type": "stream",
     "text": [
      "Enter the number: 7\n",
      "prime\n"
     ]
    }
   ],
   "source": [
    "#number is prime\n",
    "n = int(input(\"Enter the number: \"))\n",
    "\n",
    "#if n <= 1:\n",
    " #   print(\"not prime\")\n",
    "#else:\n",
    "for i in range(2, int(n*0.5) + 1):\n",
    "     if n % i == 0:\n",
    "        print(\"not prime\")\n",
    "        break\n",
    "else:\n",
    "        print(\"prime\")\n",
    "\n",
    "\n"
   ]
  },
  {
   "cell_type": "code",
   "execution_count": 73,
   "id": "9705eac4",
   "metadata": {},
   "outputs": [
    {
     "name": "stdout",
     "output_type": "stream",
     "text": [
      "Enter temperature in Celsius: 273\n",
      "273.0°C is equal to 523.4°F\n"
     ]
    }
   ],
   "source": [
    "#Convert celsius to fahrenheit\n",
    "celsius = float(input(\"Enter temperature in Celsius: \"))\n",
    "fahrenheit = (celsius * 9/5) + 32\n",
    "print(f\"{celsius}°C is equal to {fahrenheit}°F\")\n"
   ]
  },
  {
   "cell_type": "code",
   "execution_count": 76,
   "id": "310706d6",
   "metadata": {},
   "outputs": [
    {
     "name": "stdout",
     "output_type": "stream",
     "text": [
      "Enter the number of rows: 5\n",
      "    *\n",
      "   ***\n",
      "  *****\n",
      " *******\n",
      "*********\n"
     ]
    }
   ],
   "source": [
    "#Print Pattern of Starts\n",
    "rows = int(input(\"Enter the number of rows: \"))\n",
    "\n",
    "for i in range(1, rows + 1):\n",
    "    print(\" \" * (rows - i) + \"*\" * (2*i - 1))\n",
    "\n"
   ]
  },
  {
   "cell_type": "code",
   "execution_count": null,
   "id": "75fd1d82",
   "metadata": {},
   "outputs": [],
   "source": []
  }
 ],
 "metadata": {
  "kernelspec": {
   "display_name": "Python 3 (ipykernel)",
   "language": "python",
   "name": "python3"
  },
  "language_info": {
   "codemirror_mode": {
    "name": "ipython",
    "version": 3
   },
   "file_extension": ".py",
   "mimetype": "text/x-python",
   "name": "python",
   "nbconvert_exporter": "python",
   "pygments_lexer": "ipython3",
   "version": "3.9.13"
  }
 },
 "nbformat": 4,
 "nbformat_minor": 5
}
