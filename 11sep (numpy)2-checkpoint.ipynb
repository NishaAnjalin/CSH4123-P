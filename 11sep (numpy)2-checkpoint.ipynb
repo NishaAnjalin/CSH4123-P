{
 "cells": [
  {
   "cell_type": "code",
   "execution_count": 1,
   "id": "bc28417b",
   "metadata": {},
   "outputs": [
    {
     "data": {
      "text/plain": [
       "[[0, 1, 2], [0, 1, 2], [0, 1, 2]]"
      ]
     },
     "execution_count": 1,
     "metadata": {},
     "output_type": "execute_result"
    }
   ],
   "source": [
    "import numpy as np\n",
    "rows=3\n",
    "cols=3\n",
    "\n",
    "list_of_list=[[j for j in range(cols)]for i in range(rows)]\n",
    "list_of_list"
   ]
  },
  {
   "cell_type": "code",
   "execution_count": 9,
   "id": "0e13e8f3",
   "metadata": {},
   "outputs": [
    {
     "data": {
      "text/plain": [
       "[[[0, 1, 2], [0, 1, 2], [0, 1, 2]],\n",
       " [[0, 1, 2], [0, 1, 2], [0, 1, 2]],\n",
       " [[0, 1, 2], [0, 1, 2], [0, 1, 2]]]"
      ]
     },
     "execution_count": 9,
     "metadata": {},
     "output_type": "execute_result"
    }
   ],
   "source": [
    "import numpy as np\n",
    "rows=3\n",
    "cols=3\n",
    "depth=3\n",
    "\n",
    "# Corrected list comprehension for creating a 3D list\n",
    "list_of_list = [[[j for j in range(cols)] for i in range(rows)] for k in range(depth)]\n",
    "list_of_list"
   ]
  },
  {
   "cell_type": "code",
   "execution_count": 12,
   "id": "1d9790c6",
   "metadata": {},
   "outputs": [
    {
     "data": {
      "text/plain": [
       "array([[[1, 2],\n",
       "        [3, 4]],\n",
       "\n",
       "       [[5, 2],\n",
       "        [3, 4]],\n",
       "\n",
       "       [[1, 2],\n",
       "        [7, 4]]])"
      ]
     },
     "execution_count": 12,
     "metadata": {},
     "output_type": "execute_result"
    }
   ],
   "source": [
    "import numpy as np\n",
    "array_1=[[1,2],[3,4]]\n",
    "array_2=[[5,2],[3,4]]\n",
    "array_3=[[1,2],[7,4]]\n",
    "\n",
    "array_3d=np.array([array_1, array_2, array_3])\n",
    "array_3d"
   ]
  },
  {
   "cell_type": "code",
   "execution_count": 13,
   "id": "b868d282",
   "metadata": {},
   "outputs": [
    {
     "data": {
      "text/plain": [
       "array([[[1, 2, 3, 4]],\n",
       "\n",
       "       [[5, 2, 3, 4]],\n",
       "\n",
       "       [[1, 2, 7, 4]]])"
      ]
     },
     "execution_count": 13,
     "metadata": {},
     "output_type": "execute_result"
    }
   ],
   "source": [
    "import numpy as np\n",
    "array_1=[[1,2,3,4]]\n",
    "array_2=[[5,2,3,4]]\n",
    "array_3=[[1,2,7,4]]\n",
    "\n",
    "array_3d=np.array([array_1, array_2, array_3])\n",
    "array_3d"
   ]
  },
  {
   "cell_type": "code",
   "execution_count": 14,
   "id": "1a421c7a",
   "metadata": {},
   "outputs": [
    {
     "data": {
      "text/plain": [
       "[[[[0, 1, 2], [0, 1, 2], [0, 1, 2]],\n",
       "  [[0, 1, 2], [0, 1, 2], [0, 1, 2]],\n",
       "  [[0, 1, 2], [0, 1, 2], [0, 1, 2]]],\n",
       " [[[0, 1, 2], [0, 1, 2], [0, 1, 2]],\n",
       "  [[0, 1, 2], [0, 1, 2], [0, 1, 2]],\n",
       "  [[0, 1, 2], [0, 1, 2], [0, 1, 2]]]]"
      ]
     },
     "execution_count": 14,
     "metadata": {},
     "output_type": "execute_result"
    }
   ],
   "source": [
    "import numpy as np\n",
    "rows=3\n",
    "cols=3\n",
    "depth=3\n",
    "hig=2\n",
    "\n",
    "# Corrected list comprehension for creating a 4D list\n",
    "list_of_list = [[[[j for j in range(cols)] for i in range(rows)] for k in range(depth)]for p in range(hig)]\n",
    "list_of_list"
   ]
  },
  {
   "cell_type": "code",
   "execution_count": 15,
   "id": "fb503e0c",
   "metadata": {},
   "outputs": [],
   "source": [
    "#Exercise:\n",
    "#1)Create an evenly-spaced array of numbers based on given start and stop values\n",
    "#2)Create an array of zeros that be filled with data letter\n",
    "#3)Create an arry of ones\n",
    "#4)Create an arry of rando, floats between zero and one\n",
    "#5)Create 1D array and insert the values 1 2 3 4 5 and access the following elements\n",
    "    #1st element    2nd element    range of elements from 1st to 3ed    \n",
    "    #range of elements from 2nd element   range of elements from index=-2\n",
    "#6)create 2D array and try to access following elements:\n",
    "    #1st row 2nd column elements      2nd row elements      3rd column elements\n",
    "    #range of elements in 1st and 2nd row with 2nd and 3rd columns\n",
    "#7)Create a 1D array make it within order by axis wise\n",
    "#8)Read 1D array and insert the values 1,9,2,5,3 and check whether the elements in array are greater than 5.\n",
    "    # and print those elements as separate list(Use Boolean Masking)\n",
    "#9)Create 1D array and insert values from 0 to 20 within 3 gap spacve and find the values which are divided by 2.\n",
    "    #and replace 0 in array which are not satisfied the condition"
   ]
  },
  {
   "cell_type": "code",
   "execution_count": 19,
   "id": "1ff0dd52",
   "metadata": {},
   "outputs": [
    {
     "name": "stdout",
     "output_type": "stream",
     "text": [
      "[ 0.   2.5  5.   7.5 10. ]\n"
     ]
    }
   ],
   "source": [
    "#1)Create an evenly-spaced array of numbers based on given start and stop values\n",
    "import numpy as np\n",
    "start = 0\n",
    "stop = 10\n",
    "num = 5  \n",
    "\n",
    "result = np.linspace(start, stop, num)\n",
    "print(result)\n"
   ]
  },
  {
   "cell_type": "code",
   "execution_count": 20,
   "id": "bf56b0ed",
   "metadata": {},
   "outputs": [
    {
     "name": "stdout",
     "output_type": "stream",
     "text": [
      "[0. 0. 0. 0. 0.]\n",
      "[[0 0 0]\n",
      " [0 0 0]]\n"
     ]
    }
   ],
   "source": [
    "#2)Create an array of zeros that be filled with data letter\n",
    "import numpy as np\n",
    "\n",
    "array_1d = np.zeros(5)\n",
    "print(array_1d)\n",
    "\n",
    "array_2d = np.zeros((2, 3), dtype=int)\n",
    "print(array_2d)"
   ]
  },
  {
   "cell_type": "code",
   "execution_count": 21,
   "id": "dce78b2a",
   "metadata": {},
   "outputs": [
    {
     "name": "stdout",
     "output_type": "stream",
     "text": [
      "[1. 1. 1. 1. 1.]\n",
      "[[1 1 1]\n",
      " [1 1 1]]\n"
     ]
    }
   ],
   "source": [
    "#3)Create an arry of ones\n",
    "import numpy as np\n",
    "\n",
    "array_1d = np.ones(5)\n",
    "print(array_1d)\n",
    "\n",
    "array_2d = np.ones((2, 3), dtype=int)\n",
    "print(array_2d)"
   ]
  },
  {
   "cell_type": "code",
   "execution_count": 22,
   "id": "66cfd19b",
   "metadata": {},
   "outputs": [
    {
     "name": "stdout",
     "output_type": "stream",
     "text": [
      "0.38143994203535314\n"
     ]
    }
   ],
   "source": [
    "#4)Create an arry of rando, floats between zero and one\n",
    "import numpy as np\n",
    "a = np.random.random()\n",
    "print(a)"
   ]
  },
  {
   "cell_type": "code",
   "execution_count": 24,
   "id": "af97c701",
   "metadata": {},
   "outputs": [
    {
     "name": "stdout",
     "output_type": "stream",
     "text": [
      "0.6953219297692858\n"
     ]
    }
   ],
   "source": [
    "import random\n",
    "a = random.uniform(0, 1)\n",
    "print(a)"
   ]
  },
  {
   "cell_type": "code",
   "execution_count": 30,
   "id": "5952d71f",
   "metadata": {},
   "outputs": [
    {
     "name": "stdout",
     "output_type": "stream",
     "text": [
      "Array: [1 2 3 4 5]\n",
      "1st element: 1\n",
      "2nd element 2\n",
      "element from 1st to 3ed: [1 2 3]\n",
      "element from 2nd: [2 3 4 5]\n",
      "element from index -2: [4 5]\n"
     ]
    }
   ],
   "source": [
    "#5)Create 1D array and insert the values 1 2 3 4 5 and access the following elements\n",
    "    #1st element    2nd element    range of elements from 1st to 3ed    \n",
    "    #range of elements from 2nd element   range of elements from index=-2\n",
    "\n",
    "import numpy as np\n",
    "arr=np.array([1,2,3,4,5])\n",
    "print('Array:',arr)\n",
    "print('1st element:',arr[0])\n",
    "print('2nd element',arr[1])\n",
    "print('element from 1st to 3ed:',arr[0:3])\n",
    "print('element from 2nd:',arr[1:])\n",
    "print('element from index -2:',arr[-2:])"
   ]
  },
  {
   "cell_type": "code",
   "execution_count": 38,
   "id": "ceee5529",
   "metadata": {},
   "outputs": [
    {
     "name": "stdout",
     "output_type": "stream",
     "text": [
      "2D array:\n",
      " [[1 2 3]\n",
      " [4 5 6]\n",
      " [7 8 9]]\n",
      "\n",
      "1st row 2nd column elemnt: 2\n",
      "\n",
      "2nd row elements: [4 5 6]\n",
      "\n",
      "3rd column elements: [3 6 9]\n",
      "\n",
      "element in 1st and 2nd row , 2nd and 3rd column\n",
      " [[2 3]\n",
      " [5 6]]\n"
     ]
    }
   ],
   "source": [
    "#6)create 2D array and try to access following elements:\n",
    "    #1st row 2nd column elements      2nd row elements      3rd column elements\n",
    "    #range of elements in 1st and 2nd row with 2nd and 3rd columns\n",
    "    \n",
    "    \n",
    "import numpy as np\n",
    "arr=np.array([[1,2,3],\n",
    "            [4,5,6],\n",
    "            [7,8,9]])\n",
    "print('2D array:\\n',arr)\n",
    "print('\\n1st row 2nd column elemnt:', arr[0,1])\n",
    "print('\\n2nd row elements:',arr[1,:])\n",
    "print('\\n3rd column elements:',arr[:,2])\n",
    "print(\"\\nelement in 1st and 2nd row , 2nd and 3rd column\\n\", arr[0:2,1:3])"
   ]
  },
  {
   "cell_type": "code",
   "execution_count": 40,
   "id": "0d43624a",
   "metadata": {},
   "outputs": [
    {
     "name": "stdout",
     "output_type": "stream",
     "text": [
      "Original Array: [5 2 8 1 3]\n",
      "Sorted Array: [1 2 3 5 8]\n"
     ]
    }
   ],
   "source": [
    "#7)Create a 1D array make it within order by axis wise\n",
    "import numpy as np\n",
    "\n",
    "array = np.array([5, 2, 8, 1, 3])\n",
    "\n",
    "sorted_array = np.sort(array)\n",
    "\n",
    "print(\"Original Array:\", array)\n",
    "print(\"Sorted Array:\", sorted_array)\n"
   ]
  },
  {
   "cell_type": "code",
   "execution_count": 44,
   "id": "820df292",
   "metadata": {},
   "outputs": [
    {
     "name": "stdout",
     "output_type": "stream",
     "text": [
      "1D array: [1 9 2 5 3]\n",
      "Boolean: [False  True False  True False]\n",
      "Greater than 5: [9, 5]\n"
     ]
    }
   ],
   "source": [
    "#8)Read 1D array and insert the values 1,9,2,5,3 and check whether the elements in array are greater than 5.\n",
    "    # and print those elements as separate list(Use Boolean Masking)\n",
    "    \n",
    "import numpy as np\n",
    "arr=np.array([1,9,2,5,3])\n",
    "print('1D array:',arr)\n",
    "mask=arr>=5\n",
    "print(\"Boolean:\",mask)\n",
    "element_greater=arr[mask]\n",
    "print(\"Greater than 5:\",element_greater.tolist())"
   ]
  },
  {
   "cell_type": "code",
   "execution_count": 45,
   "id": "c9b34028",
   "metadata": {},
   "outputs": [],
   "source": [
    "#9)Create 1D array and insert values from 0 to 20 within 3 gap spacve and find the values which are divided by 2.\n",
    "    #and replace 0 in array which are not satisfied the condition"
   ]
  },
  {
   "cell_type": "code",
   "execution_count": null,
   "id": "42918925",
   "metadata": {},
   "outputs": [],
   "source": []
  },
  {
   "cell_type": "code",
   "execution_count": null,
   "id": "307dc0a7",
   "metadata": {},
   "outputs": [],
   "source": []
  },
  {
   "cell_type": "code",
   "execution_count": null,
   "id": "d6f9134e",
   "metadata": {},
   "outputs": [],
   "source": []
  },
  {
   "cell_type": "code",
   "execution_count": null,
   "id": "c8f1eb59",
   "metadata": {},
   "outputs": [],
   "source": []
  }
 ],
 "metadata": {
  "kernelspec": {
   "display_name": "Python 3 (ipykernel)",
   "language": "python",
   "name": "python3"
  },
  "language_info": {
   "codemirror_mode": {
    "name": "ipython",
    "version": 3
   },
   "file_extension": ".py",
   "mimetype": "text/x-python",
   "name": "python",
   "nbconvert_exporter": "python",
   "pygments_lexer": "ipython3",
   "version": "3.9.13"
  }
 },
 "nbformat": 4,
 "nbformat_minor": 5
}
